{
  "cells": [
    {
      "cell_type": "markdown",
      "metadata": {
        "id": "view-in-github",
        "colab_type": "text"
      },
      "source": [
        "<a href=\"https://colab.research.google.com/github/lNamelessl/ML-Projects/blob/main/Fake_News_Classifier.ipynb\" target=\"_parent\"><img src=\"https://colab.research.google.com/assets/colab-badge.svg\" alt=\"Open In Colab\"/></a>"
      ]
    },
    {
      "cell_type": "code",
      "execution_count": null,
      "metadata": {
        "id": "_oS7hp4Bl8Ni"
      },
      "outputs": [],
      "source": []
    },
    {
      "cell_type": "code",
      "execution_count": null,
      "metadata": {
        "colab": {
          "base_uri": "https://localhost:8080/"
        },
        "id": "1nkdwrS_Wm0k",
        "outputId": "21f5f51f-8f5c-4af9-db58-d4b4352aab27"
      },
      "outputs": [
        {
          "output_type": "stream",
          "name": "stdout",
          "text": [
            "chmod: cannot access '/root/.ka': No such file or directory\n"
          ]
        }
      ],
      "source": [
        "# Create the .kaggle directory if it doesn't exist\n",
        "!mkdir -p ~/.kaggle/\n",
        "\n",
        "# Now copy the kaggle.json file from /content/kaggle.json\n",
        "!cp /content/kaggle.json ~/.kaggle/\n",
        "\n",
        "# And set the permissions\n",
        "!chmod 600 ~/.ka"
      ]
    },
    {
      "cell_type": "code",
      "execution_count": null,
      "metadata": {
        "colab": {
          "base_uri": "https://localhost:8080/"
        },
        "id": "fLKskaiCWr_V",
        "outputId": "3d4e3c7f-7751-426e-8bf8-a3b7339a6965"
      },
      "outputs": [
        {
          "output_type": "stream",
          "name": "stdout",
          "text": [
            "Warning: Your Kaggle API key is readable by other users on this system! To fix this, you can run 'chmod 600 /root/.kaggle/kaggle.json'\n"
          ]
        }
      ],
      "source": [
        "# download the dataset from kaggle\n",
        "!kaggle competitions download -c fake-news"
      ]
    },
    {
      "cell_type": "code",
      "execution_count": null,
      "metadata": {
        "id": "mi9H1jU9S1qi"
      },
      "outputs": [],
      "source": [
        "# Create the .kaggle directory if it doesn't exist\n",
        "!mkdir -p ~/.kaggle/\n",
        "\n",
        "# Now copy the kaggle.json file from /content/kaggle.json\n",
        "!cp /content/kaggle.json ~/.kaggle/\n",
        "\n",
        "# And set the permissions\n",
        "!chmod 600 ~/.kaggle/kaggle.json"
      ]
    },
    {
      "cell_type": "code",
      "execution_count": null,
      "metadata": {
        "colab": {
          "base_uri": "https://localhost:8080/"
        },
        "id": "14JCW0wzXr9_",
        "outputId": "96e35ff3-510f-420c-c944-31813d4d1b82"
      },
      "outputs": [
        {
          "output_type": "stream",
          "name": "stdout",
          "text": [
            "Archive:  fake-news.zip\n",
            "  inflating: submit.csv              \n",
            "  inflating: test.csv                \n",
            "  inflating: train.csv               \n"
          ]
        }
      ],
      "source": [
        "# unzip the dataset\n",
        "!unzip fake-news.zip"
      ]
    },
    {
      "cell_type": "code",
      "execution_count": null,
      "metadata": {
        "id": "_jLrUsDFXPQA"
      },
      "outputs": [],
      "source": [
        "import pandas as pd"
      ]
    },
    {
      "cell_type": "code",
      "execution_count": null,
      "metadata": {
        "id": "khXKXEnvXhO6"
      },
      "outputs": [],
      "source": [
        "# load the training df\n",
        "train_df = pd.read_csv(\"train.csv\")"
      ]
    },
    {
      "cell_type": "code",
      "execution_count": null,
      "metadata": {
        "id": "P-91Rsm_Ye55"
      },
      "outputs": [],
      "source": [
        "# load the testing df\n",
        "test_df = pd.read_csv(\"test.csv\")"
      ]
    },
    {
      "cell_type": "code",
      "execution_count": null,
      "metadata": {
        "colab": {
          "base_uri": "https://localhost:8080/",
          "height": 224
        },
        "id": "vtt1hCt7YlLA",
        "outputId": "f4ed85c7-bad4-496b-aa50-477d74c28d72"
      },
      "outputs": [
        {
          "output_type": "execute_result",
          "data": {
            "text/plain": [
              "   id                                              title              author  \\\n",
              "0   0  House Dem Aide: We Didn’t Even See Comey’s Let...       Darrell Lucus   \n",
              "1   1  FLYNN: Hillary Clinton, Big Woman on Campus - ...     Daniel J. Flynn   \n",
              "2   2                  Why the Truth Might Get You Fired  Consortiumnews.com   \n",
              "3   3  15 Civilians Killed In Single US Airstrike Hav...     Jessica Purkiss   \n",
              "4   4  Iranian woman jailed for fictional unpublished...      Howard Portnoy   \n",
              "\n",
              "                                                text  label  \n",
              "0  House Dem Aide: We Didn’t Even See Comey’s Let...      1  \n",
              "1  Ever get the feeling your life circles the rou...      0  \n",
              "2  Why the Truth Might Get You Fired October 29, ...      1  \n",
              "3  Videos 15 Civilians Killed In Single US Airstr...      1  \n",
              "4  Print \\nAn Iranian woman has been sentenced to...      1  "
            ],
            "text/html": [
              "\n",
              "  <div id=\"df-6365c646-f8bb-4335-8892-ee56cc61d589\" class=\"colab-df-container\">\n",
              "    <div>\n",
              "<style scoped>\n",
              "    .dataframe tbody tr th:only-of-type {\n",
              "        vertical-align: middle;\n",
              "    }\n",
              "\n",
              "    .dataframe tbody tr th {\n",
              "        vertical-align: top;\n",
              "    }\n",
              "\n",
              "    .dataframe thead th {\n",
              "        text-align: right;\n",
              "    }\n",
              "</style>\n",
              "<table border=\"1\" class=\"dataframe\">\n",
              "  <thead>\n",
              "    <tr style=\"text-align: right;\">\n",
              "      <th></th>\n",
              "      <th>id</th>\n",
              "      <th>title</th>\n",
              "      <th>author</th>\n",
              "      <th>text</th>\n",
              "      <th>label</th>\n",
              "    </tr>\n",
              "  </thead>\n",
              "  <tbody>\n",
              "    <tr>\n",
              "      <th>0</th>\n",
              "      <td>0</td>\n",
              "      <td>House Dem Aide: We Didn’t Even See Comey’s Let...</td>\n",
              "      <td>Darrell Lucus</td>\n",
              "      <td>House Dem Aide: We Didn’t Even See Comey’s Let...</td>\n",
              "      <td>1</td>\n",
              "    </tr>\n",
              "    <tr>\n",
              "      <th>1</th>\n",
              "      <td>1</td>\n",
              "      <td>FLYNN: Hillary Clinton, Big Woman on Campus - ...</td>\n",
              "      <td>Daniel J. Flynn</td>\n",
              "      <td>Ever get the feeling your life circles the rou...</td>\n",
              "      <td>0</td>\n",
              "    </tr>\n",
              "    <tr>\n",
              "      <th>2</th>\n",
              "      <td>2</td>\n",
              "      <td>Why the Truth Might Get You Fired</td>\n",
              "      <td>Consortiumnews.com</td>\n",
              "      <td>Why the Truth Might Get You Fired October 29, ...</td>\n",
              "      <td>1</td>\n",
              "    </tr>\n",
              "    <tr>\n",
              "      <th>3</th>\n",
              "      <td>3</td>\n",
              "      <td>15 Civilians Killed In Single US Airstrike Hav...</td>\n",
              "      <td>Jessica Purkiss</td>\n",
              "      <td>Videos 15 Civilians Killed In Single US Airstr...</td>\n",
              "      <td>1</td>\n",
              "    </tr>\n",
              "    <tr>\n",
              "      <th>4</th>\n",
              "      <td>4</td>\n",
              "      <td>Iranian woman jailed for fictional unpublished...</td>\n",
              "      <td>Howard Portnoy</td>\n",
              "      <td>Print \\nAn Iranian woman has been sentenced to...</td>\n",
              "      <td>1</td>\n",
              "    </tr>\n",
              "  </tbody>\n",
              "</table>\n",
              "</div>\n",
              "    <div class=\"colab-df-buttons\">\n",
              "\n",
              "  <div class=\"colab-df-container\">\n",
              "    <button class=\"colab-df-convert\" onclick=\"convertToInteractive('df-6365c646-f8bb-4335-8892-ee56cc61d589')\"\n",
              "            title=\"Convert this dataframe to an interactive table.\"\n",
              "            style=\"display:none;\">\n",
              "\n",
              "  <svg xmlns=\"http://www.w3.org/2000/svg\" height=\"24px\" viewBox=\"0 -960 960 960\">\n",
              "    <path d=\"M120-120v-720h720v720H120Zm60-500h600v-160H180v160Zm220 220h160v-160H400v160Zm0 220h160v-160H400v160ZM180-400h160v-160H180v160Zm440 0h160v-160H620v160ZM180-180h160v-160H180v160Zm440 0h160v-160H620v160Z\"/>\n",
              "  </svg>\n",
              "    </button>\n",
              "\n",
              "  <style>\n",
              "    .colab-df-container {\n",
              "      display:flex;\n",
              "      gap: 12px;\n",
              "    }\n",
              "\n",
              "    .colab-df-convert {\n",
              "      background-color: #E8F0FE;\n",
              "      border: none;\n",
              "      border-radius: 50%;\n",
              "      cursor: pointer;\n",
              "      display: none;\n",
              "      fill: #1967D2;\n",
              "      height: 32px;\n",
              "      padding: 0 0 0 0;\n",
              "      width: 32px;\n",
              "    }\n",
              "\n",
              "    .colab-df-convert:hover {\n",
              "      background-color: #E2EBFA;\n",
              "      box-shadow: 0px 1px 2px rgba(60, 64, 67, 0.3), 0px 1px 3px 1px rgba(60, 64, 67, 0.15);\n",
              "      fill: #174EA6;\n",
              "    }\n",
              "\n",
              "    .colab-df-buttons div {\n",
              "      margin-bottom: 4px;\n",
              "    }\n",
              "\n",
              "    [theme=dark] .colab-df-convert {\n",
              "      background-color: #3B4455;\n",
              "      fill: #D2E3FC;\n",
              "    }\n",
              "\n",
              "    [theme=dark] .colab-df-convert:hover {\n",
              "      background-color: #434B5C;\n",
              "      box-shadow: 0px 1px 3px 1px rgba(0, 0, 0, 0.15);\n",
              "      filter: drop-shadow(0px 1px 2px rgba(0, 0, 0, 0.3));\n",
              "      fill: #FFFFFF;\n",
              "    }\n",
              "  </style>\n",
              "\n",
              "    <script>\n",
              "      const buttonEl =\n",
              "        document.querySelector('#df-6365c646-f8bb-4335-8892-ee56cc61d589 button.colab-df-convert');\n",
              "      buttonEl.style.display =\n",
              "        google.colab.kernel.accessAllowed ? 'block' : 'none';\n",
              "\n",
              "      async function convertToInteractive(key) {\n",
              "        const element = document.querySelector('#df-6365c646-f8bb-4335-8892-ee56cc61d589');\n",
              "        const dataTable =\n",
              "          await google.colab.kernel.invokeFunction('convertToInteractive',\n",
              "                                                    [key], {});\n",
              "        if (!dataTable) return;\n",
              "\n",
              "        const docLinkHtml = 'Like what you see? Visit the ' +\n",
              "          '<a target=\"_blank\" href=https://colab.research.google.com/notebooks/data_table.ipynb>data table notebook</a>'\n",
              "          + ' to learn more about interactive tables.';\n",
              "        element.innerHTML = '';\n",
              "        dataTable['output_type'] = 'display_data';\n",
              "        await google.colab.output.renderOutput(dataTable, element);\n",
              "        const docLink = document.createElement('div');\n",
              "        docLink.innerHTML = docLinkHtml;\n",
              "        element.appendChild(docLink);\n",
              "      }\n",
              "    </script>\n",
              "  </div>\n",
              "\n",
              "\n",
              "<div id=\"df-1268e74a-b879-4851-8c67-8ef9f9d67148\">\n",
              "  <button class=\"colab-df-quickchart\" onclick=\"quickchart('df-1268e74a-b879-4851-8c67-8ef9f9d67148')\"\n",
              "            title=\"Suggest charts\"\n",
              "            style=\"display:none;\">\n",
              "\n",
              "<svg xmlns=\"http://www.w3.org/2000/svg\" height=\"24px\"viewBox=\"0 0 24 24\"\n",
              "     width=\"24px\">\n",
              "    <g>\n",
              "        <path d=\"M19 3H5c-1.1 0-2 .9-2 2v14c0 1.1.9 2 2 2h14c1.1 0 2-.9 2-2V5c0-1.1-.9-2-2-2zM9 17H7v-7h2v7zm4 0h-2V7h2v10zm4 0h-2v-4h2v4z\"/>\n",
              "    </g>\n",
              "</svg>\n",
              "  </button>\n",
              "\n",
              "<style>\n",
              "  .colab-df-quickchart {\n",
              "      --bg-color: #E8F0FE;\n",
              "      --fill-color: #1967D2;\n",
              "      --hover-bg-color: #E2EBFA;\n",
              "      --hover-fill-color: #174EA6;\n",
              "      --disabled-fill-color: #AAA;\n",
              "      --disabled-bg-color: #DDD;\n",
              "  }\n",
              "\n",
              "  [theme=dark] .colab-df-quickchart {\n",
              "      --bg-color: #3B4455;\n",
              "      --fill-color: #D2E3FC;\n",
              "      --hover-bg-color: #434B5C;\n",
              "      --hover-fill-color: #FFFFFF;\n",
              "      --disabled-bg-color: #3B4455;\n",
              "      --disabled-fill-color: #666;\n",
              "  }\n",
              "\n",
              "  .colab-df-quickchart {\n",
              "    background-color: var(--bg-color);\n",
              "    border: none;\n",
              "    border-radius: 50%;\n",
              "    cursor: pointer;\n",
              "    display: none;\n",
              "    fill: var(--fill-color);\n",
              "    height: 32px;\n",
              "    padding: 0;\n",
              "    width: 32px;\n",
              "  }\n",
              "\n",
              "  .colab-df-quickchart:hover {\n",
              "    background-color: var(--hover-bg-color);\n",
              "    box-shadow: 0 1px 2px rgba(60, 64, 67, 0.3), 0 1px 3px 1px rgba(60, 64, 67, 0.15);\n",
              "    fill: var(--button-hover-fill-color);\n",
              "  }\n",
              "\n",
              "  .colab-df-quickchart-complete:disabled,\n",
              "  .colab-df-quickchart-complete:disabled:hover {\n",
              "    background-color: var(--disabled-bg-color);\n",
              "    fill: var(--disabled-fill-color);\n",
              "    box-shadow: none;\n",
              "  }\n",
              "\n",
              "  .colab-df-spinner {\n",
              "    border: 2px solid var(--fill-color);\n",
              "    border-color: transparent;\n",
              "    border-bottom-color: var(--fill-color);\n",
              "    animation:\n",
              "      spin 1s steps(1) infinite;\n",
              "  }\n",
              "\n",
              "  @keyframes spin {\n",
              "    0% {\n",
              "      border-color: transparent;\n",
              "      border-bottom-color: var(--fill-color);\n",
              "      border-left-color: var(--fill-color);\n",
              "    }\n",
              "    20% {\n",
              "      border-color: transparent;\n",
              "      border-left-color: var(--fill-color);\n",
              "      border-top-color: var(--fill-color);\n",
              "    }\n",
              "    30% {\n",
              "      border-color: transparent;\n",
              "      border-left-color: var(--fill-color);\n",
              "      border-top-color: var(--fill-color);\n",
              "      border-right-color: var(--fill-color);\n",
              "    }\n",
              "    40% {\n",
              "      border-color: transparent;\n",
              "      border-right-color: var(--fill-color);\n",
              "      border-top-color: var(--fill-color);\n",
              "    }\n",
              "    60% {\n",
              "      border-color: transparent;\n",
              "      border-right-color: var(--fill-color);\n",
              "    }\n",
              "    80% {\n",
              "      border-color: transparent;\n",
              "      border-right-color: var(--fill-color);\n",
              "      border-bottom-color: var(--fill-color);\n",
              "    }\n",
              "    90% {\n",
              "      border-color: transparent;\n",
              "      border-bottom-color: var(--fill-color);\n",
              "    }\n",
              "  }\n",
              "</style>\n",
              "\n",
              "  <script>\n",
              "    async function quickchart(key) {\n",
              "      const quickchartButtonEl =\n",
              "        document.querySelector('#' + key + ' button');\n",
              "      quickchartButtonEl.disabled = true;  // To prevent multiple clicks.\n",
              "      quickchartButtonEl.classList.add('colab-df-spinner');\n",
              "      try {\n",
              "        const charts = await google.colab.kernel.invokeFunction(\n",
              "            'suggestCharts', [key], {});\n",
              "      } catch (error) {\n",
              "        console.error('Error during call to suggestCharts:', error);\n",
              "      }\n",
              "      quickchartButtonEl.classList.remove('colab-df-spinner');\n",
              "      quickchartButtonEl.classList.add('colab-df-quickchart-complete');\n",
              "    }\n",
              "    (() => {\n",
              "      let quickchartButtonEl =\n",
              "        document.querySelector('#df-1268e74a-b879-4851-8c67-8ef9f9d67148 button');\n",
              "      quickchartButtonEl.style.display =\n",
              "        google.colab.kernel.accessAllowed ? 'block' : 'none';\n",
              "    })();\n",
              "  </script>\n",
              "</div>\n",
              "\n",
              "    </div>\n",
              "  </div>\n"
            ],
            "application/vnd.google.colaboratory.intrinsic+json": {
              "type": "dataframe",
              "variable_name": "train_df",
              "summary": "{\n  \"name\": \"train_df\",\n  \"rows\": 20800,\n  \"fields\": [\n    {\n      \"column\": \"id\",\n      \"properties\": {\n        \"dtype\": \"number\",\n        \"std\": 6004,\n        \"min\": 0,\n        \"max\": 20799,\n        \"num_unique_values\": 20800,\n        \"samples\": [\n          14649,\n          9231,\n          6473\n        ],\n        \"semantic_type\": \"\",\n        \"description\": \"\"\n      }\n    },\n    {\n      \"column\": \"title\",\n      \"properties\": {\n        \"dtype\": \"string\",\n        \"num_unique_values\": 19803,\n        \"samples\": [\n          \"Florida Republicans Voting for Hillary Clinton \\u00b7 Guardian Liberty Voice\",\n          \"\\u2018Weekend Warriors\\u2019 Show Survival Benefits - The New York Times\",\n          \"Part 6, Democratic Network Money: Commons Money that Works for Us, Instead of Us Working for It\"\n        ],\n        \"semantic_type\": \"\",\n        \"description\": \"\"\n      }\n    },\n    {\n      \"column\": \"author\",\n      \"properties\": {\n        \"dtype\": \"category\",\n        \"num_unique_values\": 4201,\n        \"samples\": [\n          \"AARGH63\",\n          \"Dave Kehr\",\n          \"Patrick Healy\"\n        ],\n        \"semantic_type\": \"\",\n        \"description\": \"\"\n      }\n    },\n    {\n      \"column\": \"text\",\n      \"properties\": {\n        \"dtype\": \"string\",\n        \"num_unique_values\": 20386,\n        \"samples\": [\n          \"Multan a un ultrasur por lanzar a un jugador del Bar\\u00e7a al campo durante el partido Madrid-Legia EL PARTIDO SE CONSIDERABA DE ALTO RIESGO PARA LOS JUGADORES DEL BARCELONA Real Madrid \\nUn jugador barcelonista golpe\\u00f3 a varios jugadores durante el encuentro de la Champions que tuvo lugar ayer entre el Real Madrid y el Legia Varsovia despu\\u00e9s de ser arrojado desde la grada por un hincha madridista. \\nEl portero del Legia, muy molesto, intent\\u00f3 devolver el jugador a las gradas de una patada y se encar\\u00f3 con los Ultrasur, que ya preparaban a otro jugador para echarlo al campo y entorpecer el encuentro. En esta ocasi\\u00f3n pretend\\u00edan prenderlo con un mechero antes de lanzarlo al c\\u00e9sped. \\nLas autoridades han vuelto a pedir a los aficionados que dejen de lanzar cosas al campo como botellas, monedas y jugadores del Barcelona. El dispositivo de seguridad no puedo hacer nada por evitar que algunos hinchas introdujeran a jugadores barcelonistas a la grada, pues los llevaban camuflados dentro de bocadillos de gran tama\\u00f1o. \\nEl partido pudo ser reanudado cuando el \\u00e1rbitro apart\\u00f3 a un rinc\\u00f3n del c\\u00e9sped al jugador barcelonista.\",\n          \"Written by Jacob G. Hornberger   As US officials continue to accuse Russia of meddling with the US presidential election, an accusation that they have provided no evidence whatsoever to support, let\\u2019s review some of the US government\\u2019s history of meddling with elections in others countries.1. In 1951, the democratically elected parliament of Iran elected a man named Mohammad Mossadegh to be Iran\\u2019s prime minister. Mossadegh angered British Empire officials by nationalizing British oil interests in the country.British officials then turned to the CIA for assistance. In 1953, the CIA secretly fomented a violent coup in Iran, which succeeded in ousting Mossadegh from power and making the Shah of Iran the supreme unelected dictator of the country.To fortify the Shah\\u2019s dictatorial hold on power, the CIA helped organize and train the his domestic police force, the Savak, which was essentially a combination of the CIA, the NSA, and the military. Part of the CIA\\u2019s training involved teaching Savak agents the art of torture.For the next 26 years, the Iranian people suffered under one of the most brutal and tyrannical dictatorships in the world, one that US officials fully supported and called an ally and friend of the United States.In 1979, Iranians successfully revolted against the Shah\\u2019s regime and ousted him from power. One result was not a restoration of the democratic system that had elected Mossadegh but rather another brutal dictatorship, this time a religious one. Another result is the bad relations between the Iran and US governments that continues to exist today.2. In 1951, the Guatemalan people democratically elected a man named Jacobo Arbenz to be their president. Arbenz, however, was not satisfactory to US officials, especially the national-security branch of the government, specifically the Pentagon and the CIA. The reason that US officials opposed Arbenz was that he was a socialist, and US officials considered a socialist president of Guatemala to be a threat to \\u201cnational security\\u201d here in the United States.In 1954 \\u2014 one year after the coup in Iran, the CIA fomented a violent military coup that succeeded in removing Arbenz from power and replacing him with one of the most brutal unelected military dictators in Latin American history, a man named Carlos Castillo Armas. The CIA had a kill list prepared for the coup, which Arbenz was able to escape by fleeing the country before Castillo was able to get him. The CIA\\u2019s destruction of Guatemala\\u2019s democratic system threw the nation into a 30-year civil war that ended up killing millions of Guatemalan people, especially many of the poor.3. In 1960 a man named Patrice Lamumba was elected Congo\\u2019s first prime minister after independence from Belgium. Lamumba spoke out against Western imperialism and refused to take sides in the Cold War, which caused the CIA to conclude that he was a threat to \\u201cnational security.\\u201d The CIA orchestrated the assassination of Lamumba, which ended up taking place on January 17, 1961, just three days before President Kennedy, who liked Lamumba and who would have ordered the CIA to stand down, was to be sworn into office.4. In 1970 a man named Salvador Allende received a plurality of votes in the presidential election in Chile. Pursuant to the Chilean constitution, the election was thrown into the national congress. President Richard Nixon, his national-security team, the Pentagon, and the CIA concluded that because Allende believed in communism and socialism, he posed a grave threat to \\u201cnational security\\u201d here in the United States. The CIA attempted to bribe members of the congress to vote against Allende. It also orchestrated the kidnapping of the head of Chile\\u2019s armed forces, Gen Rene Schneider, who opposed a US military coup in his country, especially since a coup would violate the country\\u2019s constitution. The kidnapping attempt on Schneider left him dead.The CIA then fomented a coup that took place on 9/11 1973 that violently ousted Allende from power and left him dead. Replacing him was army Gen. Augusto Pinochet, one of the most brutal unelected military dictators in history. By the time Pinochet\\u2019s 17-year reign of military terror came to an end in 1990, he and his CIA-supported goons had incarcerated, raped, tortured, or killed tens of thousands of innocent people \\u2014 that is, people whose only \\u201ccrime\\u201d was believing in socialism \\u2014 with the full support of the CIA, Pentagon, Nixon, and his \\u201cnational security\\u201d team.Of course, there are also the more recent support of regime-change operations that ousted democratically elected presidents that the US government disapproved of, such as in Ukraine and Egypt.And then there is the long list of countries where unelected dictators were targeted for regime change by the US national security state and, where successful, replaced with a brutal unelected pro-US dictator. Cuba, Indonesia, Iraq, Libya, and Syria all come to mind.US officials need to keep in mind that when they point their accusatory index finger at Russia for supposedly meddling in the US presidential election, US officials have, at the same time, three fingers pointing back at themselves. Reprinted with permission from the Future of Freedom Foundation . Related\",\n          \"When hearing of an establishment called the Black and Blue Steakhouse, one could reasonably surmise that some, or at the very least one, extremely tough person could be found somewhere in there. Well, the three terrorists who attacked London Bridge over the weekend found the Black and Blue Steakhouse, and they found the toughest man in the house. [Or, maybe more to the point, he found them.  Roy Larner, 47, is a huge fan of the South East London soccer team Millwall F. C. The team is known as the Lions, and when   terrorists entered the Black and Blue to kill innocent people, Larner let them know who is the true king of the jungle. After the terrorists entered, with obvious bad intentions, Larner sprang into action: \\u201cLike an idiot I shouted back at them. I thought, \\u2018I need to take the p*** out of these b*****s.\\u2019 \\u201cI took a few steps towards them and said, \\u2018F*** you, I\\u2019m Millwall.\\u2019 So they started attacking me. \\u201cI stood in front of them trying to fight them off. Everyone else ran to the back. I was on my own against all three of them, that\\u2019s why I got hurt so much. It was just me, trying to grab them with my bare hands and hold on. I was swinging. \\u201cI got stabbed and sliced eight times. They got me in my head, chest and both hands. There was blood everywhere. \\u201cThey were saying, \\u2018Islam, Islam!\\u2019 I said again, \\u2018F*** you, I\\u2019m Millwall!\\u2019 \\u201cIt was the worst thing I could have done as they carried on attacking me. \\u201cLuckily, none of the blows were straight at me or I\\u2019d be dead. \\u201d A petition has begun, with the aim of awarding Larner with the George Cross for bravery. The award is the second highest commendation granted by Great Britain. Looking at his scars, it\\u2019s really hard to imagine that he won\\u2019t get it. If Millwall is looking for a new slogan, they may have found it. \\u201cF*** you, I\\u2019m Millwall!\\u201d has a nice ring to it. Follow Dylan Gwinn on Twitter: @themightygwinn\"\n        ],\n        \"semantic_type\": \"\",\n        \"description\": \"\"\n      }\n    },\n    {\n      \"column\": \"label\",\n      \"properties\": {\n        \"dtype\": \"number\",\n        \"std\": 0,\n        \"min\": 0,\n        \"max\": 1,\n        \"num_unique_values\": 2,\n        \"samples\": [\n          0,\n          1\n        ],\n        \"semantic_type\": \"\",\n        \"description\": \"\"\n      }\n    }\n  ]\n}"
            }
          },
          "metadata": {},
          "execution_count": 8
        }
      ],
      "source": [
        "# check the datasets\n",
        "train_df.head()"
      ]
    },
    {
      "cell_type": "code",
      "execution_count": null,
      "metadata": {
        "colab": {
          "base_uri": "https://localhost:8080/",
          "height": 241
        },
        "id": "TVlygQ_gYyoy",
        "outputId": "999f0a44-3950-4457-ea78-692e305445f7"
      },
      "outputs": [
        {
          "output_type": "execute_result",
          "data": {
            "text/plain": [
              "      id                                              title  \\\n",
              "0  20800  Specter of Trump Loosens Tongues, if Not Purse...   \n",
              "1  20801  Russian warships ready to strike terrorists ne...   \n",
              "2  20802  #NoDAPL: Native American Leaders Vow to Stay A...   \n",
              "3  20803  Tim Tebow Will Attempt Another Comeback, This ...   \n",
              "4  20804                    Keiser Report: Meme Wars (E995)   \n",
              "\n",
              "                    author                                               text  \n",
              "0         David Streitfeld  PALO ALTO, Calif.  —   After years of scorning...  \n",
              "1                      NaN  Russian warships ready to strike terrorists ne...  \n",
              "2            Common Dreams  Videos #NoDAPL: Native American Leaders Vow to...  \n",
              "3            Daniel Victor  If at first you don’t succeed, try a different...  \n",
              "4  Truth Broadcast Network  42 mins ago 1 Views 0 Comments 0 Likes 'For th...  "
            ],
            "text/html": [
              "\n",
              "  <div id=\"df-edbec91d-94bd-4f72-aeb4-1a652530690b\" class=\"colab-df-container\">\n",
              "    <div>\n",
              "<style scoped>\n",
              "    .dataframe tbody tr th:only-of-type {\n",
              "        vertical-align: middle;\n",
              "    }\n",
              "\n",
              "    .dataframe tbody tr th {\n",
              "        vertical-align: top;\n",
              "    }\n",
              "\n",
              "    .dataframe thead th {\n",
              "        text-align: right;\n",
              "    }\n",
              "</style>\n",
              "<table border=\"1\" class=\"dataframe\">\n",
              "  <thead>\n",
              "    <tr style=\"text-align: right;\">\n",
              "      <th></th>\n",
              "      <th>id</th>\n",
              "      <th>title</th>\n",
              "      <th>author</th>\n",
              "      <th>text</th>\n",
              "    </tr>\n",
              "  </thead>\n",
              "  <tbody>\n",
              "    <tr>\n",
              "      <th>0</th>\n",
              "      <td>20800</td>\n",
              "      <td>Specter of Trump Loosens Tongues, if Not Purse...</td>\n",
              "      <td>David Streitfeld</td>\n",
              "      <td>PALO ALTO, Calif.  —   After years of scorning...</td>\n",
              "    </tr>\n",
              "    <tr>\n",
              "      <th>1</th>\n",
              "      <td>20801</td>\n",
              "      <td>Russian warships ready to strike terrorists ne...</td>\n",
              "      <td>NaN</td>\n",
              "      <td>Russian warships ready to strike terrorists ne...</td>\n",
              "    </tr>\n",
              "    <tr>\n",
              "      <th>2</th>\n",
              "      <td>20802</td>\n",
              "      <td>#NoDAPL: Native American Leaders Vow to Stay A...</td>\n",
              "      <td>Common Dreams</td>\n",
              "      <td>Videos #NoDAPL: Native American Leaders Vow to...</td>\n",
              "    </tr>\n",
              "    <tr>\n",
              "      <th>3</th>\n",
              "      <td>20803</td>\n",
              "      <td>Tim Tebow Will Attempt Another Comeback, This ...</td>\n",
              "      <td>Daniel Victor</td>\n",
              "      <td>If at first you don’t succeed, try a different...</td>\n",
              "    </tr>\n",
              "    <tr>\n",
              "      <th>4</th>\n",
              "      <td>20804</td>\n",
              "      <td>Keiser Report: Meme Wars (E995)</td>\n",
              "      <td>Truth Broadcast Network</td>\n",
              "      <td>42 mins ago 1 Views 0 Comments 0 Likes 'For th...</td>\n",
              "    </tr>\n",
              "  </tbody>\n",
              "</table>\n",
              "</div>\n",
              "    <div class=\"colab-df-buttons\">\n",
              "\n",
              "  <div class=\"colab-df-container\">\n",
              "    <button class=\"colab-df-convert\" onclick=\"convertToInteractive('df-edbec91d-94bd-4f72-aeb4-1a652530690b')\"\n",
              "            title=\"Convert this dataframe to an interactive table.\"\n",
              "            style=\"display:none;\">\n",
              "\n",
              "  <svg xmlns=\"http://www.w3.org/2000/svg\" height=\"24px\" viewBox=\"0 -960 960 960\">\n",
              "    <path d=\"M120-120v-720h720v720H120Zm60-500h600v-160H180v160Zm220 220h160v-160H400v160Zm0 220h160v-160H400v160ZM180-400h160v-160H180v160Zm440 0h160v-160H620v160ZM180-180h160v-160H180v160Zm440 0h160v-160H620v160Z\"/>\n",
              "  </svg>\n",
              "    </button>\n",
              "\n",
              "  <style>\n",
              "    .colab-df-container {\n",
              "      display:flex;\n",
              "      gap: 12px;\n",
              "    }\n",
              "\n",
              "    .colab-df-convert {\n",
              "      background-color: #E8F0FE;\n",
              "      border: none;\n",
              "      border-radius: 50%;\n",
              "      cursor: pointer;\n",
              "      display: none;\n",
              "      fill: #1967D2;\n",
              "      height: 32px;\n",
              "      padding: 0 0 0 0;\n",
              "      width: 32px;\n",
              "    }\n",
              "\n",
              "    .colab-df-convert:hover {\n",
              "      background-color: #E2EBFA;\n",
              "      box-shadow: 0px 1px 2px rgba(60, 64, 67, 0.3), 0px 1px 3px 1px rgba(60, 64, 67, 0.15);\n",
              "      fill: #174EA6;\n",
              "    }\n",
              "\n",
              "    .colab-df-buttons div {\n",
              "      margin-bottom: 4px;\n",
              "    }\n",
              "\n",
              "    [theme=dark] .colab-df-convert {\n",
              "      background-color: #3B4455;\n",
              "      fill: #D2E3FC;\n",
              "    }\n",
              "\n",
              "    [theme=dark] .colab-df-convert:hover {\n",
              "      background-color: #434B5C;\n",
              "      box-shadow: 0px 1px 3px 1px rgba(0, 0, 0, 0.15);\n",
              "      filter: drop-shadow(0px 1px 2px rgba(0, 0, 0, 0.3));\n",
              "      fill: #FFFFFF;\n",
              "    }\n",
              "  </style>\n",
              "\n",
              "    <script>\n",
              "      const buttonEl =\n",
              "        document.querySelector('#df-edbec91d-94bd-4f72-aeb4-1a652530690b button.colab-df-convert');\n",
              "      buttonEl.style.display =\n",
              "        google.colab.kernel.accessAllowed ? 'block' : 'none';\n",
              "\n",
              "      async function convertToInteractive(key) {\n",
              "        const element = document.querySelector('#df-edbec91d-94bd-4f72-aeb4-1a652530690b');\n",
              "        const dataTable =\n",
              "          await google.colab.kernel.invokeFunction('convertToInteractive',\n",
              "                                                    [key], {});\n",
              "        if (!dataTable) return;\n",
              "\n",
              "        const docLinkHtml = 'Like what you see? Visit the ' +\n",
              "          '<a target=\"_blank\" href=https://colab.research.google.com/notebooks/data_table.ipynb>data table notebook</a>'\n",
              "          + ' to learn more about interactive tables.';\n",
              "        element.innerHTML = '';\n",
              "        dataTable['output_type'] = 'display_data';\n",
              "        await google.colab.output.renderOutput(dataTable, element);\n",
              "        const docLink = document.createElement('div');\n",
              "        docLink.innerHTML = docLinkHtml;\n",
              "        element.appendChild(docLink);\n",
              "      }\n",
              "    </script>\n",
              "  </div>\n",
              "\n",
              "\n",
              "<div id=\"df-aa59a545-9a25-4856-95cc-d2ced8877cc7\">\n",
              "  <button class=\"colab-df-quickchart\" onclick=\"quickchart('df-aa59a545-9a25-4856-95cc-d2ced8877cc7')\"\n",
              "            title=\"Suggest charts\"\n",
              "            style=\"display:none;\">\n",
              "\n",
              "<svg xmlns=\"http://www.w3.org/2000/svg\" height=\"24px\"viewBox=\"0 0 24 24\"\n",
              "     width=\"24px\">\n",
              "    <g>\n",
              "        <path d=\"M19 3H5c-1.1 0-2 .9-2 2v14c0 1.1.9 2 2 2h14c1.1 0 2-.9 2-2V5c0-1.1-.9-2-2-2zM9 17H7v-7h2v7zm4 0h-2V7h2v10zm4 0h-2v-4h2v4z\"/>\n",
              "    </g>\n",
              "</svg>\n",
              "  </button>\n",
              "\n",
              "<style>\n",
              "  .colab-df-quickchart {\n",
              "      --bg-color: #E8F0FE;\n",
              "      --fill-color: #1967D2;\n",
              "      --hover-bg-color: #E2EBFA;\n",
              "      --hover-fill-color: #174EA6;\n",
              "      --disabled-fill-color: #AAA;\n",
              "      --disabled-bg-color: #DDD;\n",
              "  }\n",
              "\n",
              "  [theme=dark] .colab-df-quickchart {\n",
              "      --bg-color: #3B4455;\n",
              "      --fill-color: #D2E3FC;\n",
              "      --hover-bg-color: #434B5C;\n",
              "      --hover-fill-color: #FFFFFF;\n",
              "      --disabled-bg-color: #3B4455;\n",
              "      --disabled-fill-color: #666;\n",
              "  }\n",
              "\n",
              "  .colab-df-quickchart {\n",
              "    background-color: var(--bg-color);\n",
              "    border: none;\n",
              "    border-radius: 50%;\n",
              "    cursor: pointer;\n",
              "    display: none;\n",
              "    fill: var(--fill-color);\n",
              "    height: 32px;\n",
              "    padding: 0;\n",
              "    width: 32px;\n",
              "  }\n",
              "\n",
              "  .colab-df-quickchart:hover {\n",
              "    background-color: var(--hover-bg-color);\n",
              "    box-shadow: 0 1px 2px rgba(60, 64, 67, 0.3), 0 1px 3px 1px rgba(60, 64, 67, 0.15);\n",
              "    fill: var(--button-hover-fill-color);\n",
              "  }\n",
              "\n",
              "  .colab-df-quickchart-complete:disabled,\n",
              "  .colab-df-quickchart-complete:disabled:hover {\n",
              "    background-color: var(--disabled-bg-color);\n",
              "    fill: var(--disabled-fill-color);\n",
              "    box-shadow: none;\n",
              "  }\n",
              "\n",
              "  .colab-df-spinner {\n",
              "    border: 2px solid var(--fill-color);\n",
              "    border-color: transparent;\n",
              "    border-bottom-color: var(--fill-color);\n",
              "    animation:\n",
              "      spin 1s steps(1) infinite;\n",
              "  }\n",
              "\n",
              "  @keyframes spin {\n",
              "    0% {\n",
              "      border-color: transparent;\n",
              "      border-bottom-color: var(--fill-color);\n",
              "      border-left-color: var(--fill-color);\n",
              "    }\n",
              "    20% {\n",
              "      border-color: transparent;\n",
              "      border-left-color: var(--fill-color);\n",
              "      border-top-color: var(--fill-color);\n",
              "    }\n",
              "    30% {\n",
              "      border-color: transparent;\n",
              "      border-left-color: var(--fill-color);\n",
              "      border-top-color: var(--fill-color);\n",
              "      border-right-color: var(--fill-color);\n",
              "    }\n",
              "    40% {\n",
              "      border-color: transparent;\n",
              "      border-right-color: var(--fill-color);\n",
              "      border-top-color: var(--fill-color);\n",
              "    }\n",
              "    60% {\n",
              "      border-color: transparent;\n",
              "      border-right-color: var(--fill-color);\n",
              "    }\n",
              "    80% {\n",
              "      border-color: transparent;\n",
              "      border-right-color: var(--fill-color);\n",
              "      border-bottom-color: var(--fill-color);\n",
              "    }\n",
              "    90% {\n",
              "      border-color: transparent;\n",
              "      border-bottom-color: var(--fill-color);\n",
              "    }\n",
              "  }\n",
              "</style>\n",
              "\n",
              "  <script>\n",
              "    async function quickchart(key) {\n",
              "      const quickchartButtonEl =\n",
              "        document.querySelector('#' + key + ' button');\n",
              "      quickchartButtonEl.disabled = true;  // To prevent multiple clicks.\n",
              "      quickchartButtonEl.classList.add('colab-df-spinner');\n",
              "      try {\n",
              "        const charts = await google.colab.kernel.invokeFunction(\n",
              "            'suggestCharts', [key], {});\n",
              "      } catch (error) {\n",
              "        console.error('Error during call to suggestCharts:', error);\n",
              "      }\n",
              "      quickchartButtonEl.classList.remove('colab-df-spinner');\n",
              "      quickchartButtonEl.classList.add('colab-df-quickchart-complete');\n",
              "    }\n",
              "    (() => {\n",
              "      let quickchartButtonEl =\n",
              "        document.querySelector('#df-aa59a545-9a25-4856-95cc-d2ced8877cc7 button');\n",
              "      quickchartButtonEl.style.display =\n",
              "        google.colab.kernel.accessAllowed ? 'block' : 'none';\n",
              "    })();\n",
              "  </script>\n",
              "</div>\n",
              "\n",
              "    </div>\n",
              "  </div>\n"
            ],
            "application/vnd.google.colaboratory.intrinsic+json": {
              "type": "dataframe",
              "variable_name": "test_df",
              "summary": "{\n  \"name\": \"test_df\",\n  \"rows\": 5200,\n  \"fields\": [\n    {\n      \"column\": \"id\",\n      \"properties\": {\n        \"dtype\": \"number\",\n        \"std\": 1501,\n        \"min\": 20800,\n        \"max\": 25999,\n        \"num_unique_values\": 5200,\n        \"samples\": [\n          21926,\n          20879,\n          24060\n        ],\n        \"semantic_type\": \"\",\n        \"description\": \"\"\n      }\n    },\n    {\n      \"column\": \"title\",\n      \"properties\": {\n        \"dtype\": \"string\",\n        \"num_unique_values\": 5056,\n        \"samples\": [\n          \"Paula Jones Calls Megyn Kelly A \\u2018Nasty Heifer\\u2019 After Contentious Interview With Gingrich [VIDEO]\",\n          \"How Grey are the White Helmets and Their Backers?\",\n          \"The Hidden Influence of Clinton and Trump\\u2019s Religion - The New York Times\"\n        ],\n        \"semantic_type\": \"\",\n        \"description\": \"\"\n      }\n    },\n    {\n      \"column\": \"author\",\n      \"properties\": {\n        \"dtype\": \"category\",\n        \"num_unique_values\": 1732,\n        \"samples\": [\n          \"Dave Philipps\",\n          \"Charly Wilder\",\n          \"Ivan the Stakhanovets\"\n        ],\n        \"semantic_type\": \"\",\n        \"description\": \"\"\n      }\n    },\n    {\n      \"column\": \"text\",\n      \"properties\": {\n        \"dtype\": \"string\",\n        \"num_unique_values\": 5126,\n        \"samples\": [\n          \"By Daily News Bin | November 3, 2016 | 2 947 SHARES \\nMost Americans know Jason Chaffetz as the rogue Republican Congressman who can get away with being as dishonest and duplicitous as he wants because his conservative district in Utah keeps reelecting him no matter what he does. He was caught using private email for work purposes while he was trying to take down Hillary Clinton for doing the same. And last week he flat out lied about an FBI letter in clear violation of federal law under the Hatch Act. But just when you think Chaffetz can\\u2019t be dirtier, it turns out his campaign is literally being funded by a criminal enterprise controlled by overseas investors. \\nThe single biggest campaign donor Jason Chaffetz is a company called Nu Skin Enterprises. Research done by Reverb Press has revealed that it adds up to nearly six figures in total, a surreal dollar amount for a fairly obscure company to give to a single Congressmen. But despite the lack of name recognition, Nu Skin is a billion dollar pyramid scheme which pushes questionable anti-aging miracle cures. And it\\u2019s been busted by the Feds for criminal behavior resulting in tens of millions of dollars in penalties. \\nBizarrely, Nu Skin Enterprises is now being bought up by overseas Chinese investors to the tune of hundreds of millions of dollars, placing the company largely under overseas control even as it\\u2019s begun its illegal business practices into China. Included in the investors list: family members of former Chinese Premier Wen Jiabao. So what does this all have to do with Congressman Jason Chaffetz? In short, a busted criminal pyramid scheme now controlled by Chinese political figures has been funding its very own member of Congress from the very start of his political career. In fact, before entering politics, Chaffetz used to be an employee of the company. With each new turn, the story grows stranger. If you enjoy Daily News Bin, consider making a contribution: Contributed by Daily News Bin staff 947 \",\n          \"Turkey\\u2019s Islamist president, Recep Tayyip Erdo\\u011fan, has stepped up his war of words against Europe, accusing Germany of \\u201cemploying Nazi measures\\u201d against Turks in Germany. [The Justice and Development Party (AKP) leader levelled the accusation at Chancellor Angela Merkel personally, according to EU Observer, while addressing a rally in Istanbul.  \\u201cYou are right now employing Nazi measures,\\u201d he declared. \\u201cAgainst who? My Turkish brother citizens in Germany and brother ministers. \\u201d The   \\u201cModerate Islamist\\u201d was referring to the Merkel administration refusing to allow the AKP to organise political rallies in Germany ahead of a Turkish referendum on 16 April. Germany is home to around three million Turks, and Erdo\\u011fan has been keen to court them, as well as other European diaspora communities, in support of his bid to increase executive powers. Chancellor Merkel said the slurs broke \\u201cevery taboo\\u201d and disrespected genuine victims of the Nazis. She said she would consider revoking permissions for AKP campaign events which have already been granted if the insults continued. Erdo\\u011fan has shown no signs of deescalating his rhetoric, accusing the Germans of \\u201charbouring terrorists\\u201d from Turkey\\u2019s embattled Kurdish minority. Turkey\\u2019s Erdogan accuses Germany of \\u2019harbouring terrorists\\u2019 https:  .  pic. twitter.   \\u2014   FRANCE 24 (@FRANCE24) November 3, 2016,  The Kurds have faced brutal oppression at the hands of the Erdo\\u011fan regime, with the United Nations criticising the Turkish authorities for using summary execution, rape, and torture as tools of suppression, and liquidating Kurdish population centres in the country\\u2019s  . SOURCE:   via Associated Press, In recent days, Turkish authorities have also attacked Kurds celebrating Newroz, a traditional New Year celebration which predates Islam. This is how #Turkey\\u2019s dictator Erdogan treats Kurds who want to celebrate their old tradition #Newroz in Kurdistan pic. twitter.   \\u2014   NieuwsBlog (@nieuwsblog) March 18, 2017, Germany has not been alone in opposing political activities by the AKP in Europe, with Turkish migrants and dual nationals sympathetic to Erdo\\u011fan rioting in the streets after the Dutch government refused to allow Turkish ministers to attend a rally in Rotterdam. Dutch police used water canons to break up a crowd of more than 1, 000  #Erdogan protesters outside the Turkish consulate in #Rotterdam. pic. twitter.   \\u2014   dwnews (@dwnews) March 12, 2017,  Not every European country is holding the line, however. Sweden and France have both succumbed to Turkish pressure and allowed the AKP to hold rallies in their territories. \\u201dWhy should we tolerate speeches on our soil that other democracies refuse? No #Turkish electoral campaign in #France !\\u201d #AKP #METZ #Marine https:  .   \\u2014   Marine in English (@Marine2017_EN) March 12, 2017,  Erdo\\u011fan has responded to the unexpected resistance by urging Turks in Europe to colonise the continent. \\u201cHave not just three but five children,\\u201d he told supporters, echoing the former Algerian leader Houari Boumediene\\u2019s infamous speech to the United Nations in 1974. \\u201cOne day, millions of men will leave the Southern Hemisphere to go to the Northern Hemisphere,\\u201d Boumediene said. \\u201cAnd they will not go there as friends. Because they will go there to conquer it. And they will conquer it with their sons. The wombs of our women will give us victory. \\u201d Erdo\\u011fan was less explicit, saying: \\u201cThe place in which you are living and working is now your homeland and new motherland. Stake a claim to it. \\u201d Turkish Interior Minister S\\u00fcleyman Soylu has also threatened to terminate its migrant deal with the European Union, open its borders, and \\u201csend the 15, 000 refugees to [Europe] that we don\\u2019t send each month and blow your mind\\u201d. The President of the European Commission,   Juncker, attempted to downplay the threat, saying \\u201cit is not in Turkey\\u2019s interests to have smuggling rings and bandits in charge along its coast\\u201d. He added that many Turks in Europe are not interested in undermining their host nations, asserting: \\u201cNot all Turks are little Erdo\\u011fans. \\u201d Germany\\u2019s   population, infuriated by the Islamist president, organised a   rally opposing any increase in his powers on 18 March. #Turkey furious as 30, 000 Kurds rally in Frankfurt with PKK insignia, urging \\u201dno\\u201d to referendum on Erdogan\\u2019s powers https:  .   \\u2014   AFP news agency (@AFP) March 18, 2017, \",\n          \"\\nWikiLeaks has released the 34th batch of emails from the hacked account of Hillary Clinton\\u2019s campaign chair, John Podesta, on the eve of the election. This latest tranche includes 888 communications.\\nMuch of the latest emails\\u2019 content repeats from previous WikiLeaks releases, because entire email threads are not always released at once.\\n\\u2018Needy Latinos\\u2019 considered for VP \\nIn one leaked email, dated August 21, 2015 with the subject line \\u2018Needy Latinos and 1 easy call,\\u2019 Podesta writes to Clinton, \\u201cA few calls you might consider making,\\u201d apparently in relation to potential vice president choices.\\nPodesta then names Federico Pena, Bill Richardson and South Carolina Governor Jim Hodges. The first two are presumably the \\u201cneedy Latinos.\\u201d\\nPena, former secretary of the US Department of Transportation under President Bill Clinton, endorsed Barack Obama over Clinton for the 2008 election and served as his campaign chair. He is covered extensively in the email.\\nPodesta goes on to say that Pena\\u2019s \\u201cCabinet stints ripped up his family,\\u201d and that Pena \\u201cgave everything to the cause and no time to his family, he went through a messy divorce in the late 90\\u2019s and was left really down and felt like no-one reached out to him then so he felt pretty cut off from Clinton World.\\u201d\\nPodesta, passing along all of this information after speaking with former Secretary of the Interior Ken Salazar, gives Clinton four steps in completing a call with Pena, writing: \\u201c1) you really enjoyed seeing Cindy at the Chambers event and appreciate her support. 2) ask him how he\\u2019s been doing 3) ask about his views on the race and what she should be doing in Colorado 4) ask that he consider publicly supporting you.\\u201d\\nAn email reply from Hillary Clinton herself reads: \\u201cAgree about calls. Just a few additional points: several Latinos have asked that I consider Pena for VP.\\u201d\\nOn Richardson, a former governor of New Mexico and US ambassador to the UN under President Clinton, Podesta writes that a recent phone call between Bill Clinton and Richardson went well, \\u201cnot withstanding the fact that [Richardson] can be a dick.\\u201d\\n\\u201cHe had a good conversation with the President and has been good in his interviews since,\\u201d Podesta says of Richardson, telling Hillary that a call to Richardson ahead of his upcoming appearance on NBC\\u2019s \\u2018Meet the Press\\u2019 might seal an endorsement.\\nDonna Brazile \\nThe extent of the cozy relationship between the Clinton campaign and CNN was revealed in an email from the former head of the Democratic National Committee, Donna Brazile, which contained, almost verbatim, the wording of a question Clinton was to be asked at a town hall in Ohio.\\nSent the day before the televised event, which aired on March 13, 2016, Clinton is given the wording for a question she will be asked regarding discrimination amongst trade unions.\\nAlso included is the wording of a question her opponent Bernie Sanders is to be asked on income inequality.\\nSource \\n\"\n        ],\n        \"semantic_type\": \"\",\n        \"description\": \"\"\n      }\n    }\n  ]\n}"
            }
          },
          "metadata": {},
          "execution_count": 9
        }
      ],
      "source": [
        "# check the datasets\n",
        "test_df.head()"
      ]
    },
    {
      "cell_type": "code",
      "execution_count": null,
      "metadata": {
        "colab": {
          "base_uri": "https://localhost:8080/",
          "height": 241
        },
        "id": "Z5_hfp-mY2-c",
        "outputId": "12676310-a378-41bb-fc25-cb25bcbc76be"
      },
      "outputs": [
        {
          "output_type": "execute_result",
          "data": {
            "text/plain": [
              "id           0\n",
              "title      558\n",
              "author    1957\n",
              "text        39\n",
              "label        0\n",
              "dtype: int64"
            ],
            "text/html": [
              "<div>\n",
              "<style scoped>\n",
              "    .dataframe tbody tr th:only-of-type {\n",
              "        vertical-align: middle;\n",
              "    }\n",
              "\n",
              "    .dataframe tbody tr th {\n",
              "        vertical-align: top;\n",
              "    }\n",
              "\n",
              "    .dataframe thead th {\n",
              "        text-align: right;\n",
              "    }\n",
              "</style>\n",
              "<table border=\"1\" class=\"dataframe\">\n",
              "  <thead>\n",
              "    <tr style=\"text-align: right;\">\n",
              "      <th></th>\n",
              "      <th>0</th>\n",
              "    </tr>\n",
              "  </thead>\n",
              "  <tbody>\n",
              "    <tr>\n",
              "      <th>id</th>\n",
              "      <td>0</td>\n",
              "    </tr>\n",
              "    <tr>\n",
              "      <th>title</th>\n",
              "      <td>558</td>\n",
              "    </tr>\n",
              "    <tr>\n",
              "      <th>author</th>\n",
              "      <td>1957</td>\n",
              "    </tr>\n",
              "    <tr>\n",
              "      <th>text</th>\n",
              "      <td>39</td>\n",
              "    </tr>\n",
              "    <tr>\n",
              "      <th>label</th>\n",
              "      <td>0</td>\n",
              "    </tr>\n",
              "  </tbody>\n",
              "</table>\n",
              "</div><br><label><b>dtype:</b> int64</label>"
            ]
          },
          "metadata": {},
          "execution_count": 10
        }
      ],
      "source": [
        "# check for missing values\n",
        "train_df.isna().sum()"
      ]
    },
    {
      "cell_type": "code",
      "execution_count": null,
      "metadata": {
        "colab": {
          "base_uri": "https://localhost:8080/",
          "height": 210
        },
        "id": "LWxhcOaFZGy-",
        "outputId": "aebda4be-2216-4151-cb7a-fa4c15bea02d"
      },
      "outputs": [
        {
          "output_type": "execute_result",
          "data": {
            "text/plain": [
              "id          0\n",
              "title     122\n",
              "author    503\n",
              "text        7\n",
              "dtype: int64"
            ],
            "text/html": [
              "<div>\n",
              "<style scoped>\n",
              "    .dataframe tbody tr th:only-of-type {\n",
              "        vertical-align: middle;\n",
              "    }\n",
              "\n",
              "    .dataframe tbody tr th {\n",
              "        vertical-align: top;\n",
              "    }\n",
              "\n",
              "    .dataframe thead th {\n",
              "        text-align: right;\n",
              "    }\n",
              "</style>\n",
              "<table border=\"1\" class=\"dataframe\">\n",
              "  <thead>\n",
              "    <tr style=\"text-align: right;\">\n",
              "      <th></th>\n",
              "      <th>0</th>\n",
              "    </tr>\n",
              "  </thead>\n",
              "  <tbody>\n",
              "    <tr>\n",
              "      <th>id</th>\n",
              "      <td>0</td>\n",
              "    </tr>\n",
              "    <tr>\n",
              "      <th>title</th>\n",
              "      <td>122</td>\n",
              "    </tr>\n",
              "    <tr>\n",
              "      <th>author</th>\n",
              "      <td>503</td>\n",
              "    </tr>\n",
              "    <tr>\n",
              "      <th>text</th>\n",
              "      <td>7</td>\n",
              "    </tr>\n",
              "  </tbody>\n",
              "</table>\n",
              "</div><br><label><b>dtype:</b> int64</label>"
            ]
          },
          "metadata": {},
          "execution_count": 11
        }
      ],
      "source": [
        "# check for missing values\n",
        "test_df.isna().sum()"
      ]
    },
    {
      "cell_type": "code",
      "execution_count": null,
      "metadata": {
        "id": "-2DKcoxLZg_o"
      },
      "outputs": [],
      "source": [
        "import nltk\n",
        "import spacy\n",
        "import string\n",
        "from nltk.corpus import stopwords"
      ]
    },
    {
      "cell_type": "code",
      "execution_count": null,
      "metadata": {
        "colab": {
          "base_uri": "https://localhost:8080/"
        },
        "id": "Hr4-wLbtZxzp",
        "outputId": "7b8c9922-a1d3-4786-8d95-2c76807a4f79"
      },
      "outputs": [
        {
          "output_type": "stream",
          "name": "stderr",
          "text": [
            "[nltk_data] Downloading package stopwords to /root/nltk_data...\n",
            "[nltk_data]   Unzipping corpora/stopwords.zip.\n"
          ]
        },
        {
          "output_type": "execute_result",
          "data": {
            "text/plain": [
              "True"
            ]
          },
          "metadata": {},
          "execution_count": 13
        }
      ],
      "source": [
        "# download stopwords\n",
        "nltk.download(\"stopwords\")"
      ]
    },
    {
      "cell_type": "code",
      "execution_count": null,
      "metadata": {
        "id": "92N4MfpYZ47-"
      },
      "outputs": [],
      "source": [
        "stopwords = stopwords.words(\"english\")"
      ]
    },
    {
      "cell_type": "code",
      "execution_count": null,
      "metadata": {
        "id": "7dREPZwRZ-u1"
      },
      "outputs": [],
      "source": [
        "# load the spacy model\n",
        "nlp = spacy.load(\"en_core_web_sm\")"
      ]
    },
    {
      "cell_type": "code",
      "execution_count": null,
      "metadata": {
        "id": "t-v3ztsyaFHQ"
      },
      "outputs": [],
      "source": [
        "# define preprocessing function\n",
        "def preprocess(text):\n",
        "  if pd.isna(text):\n",
        "    return \"\"\n",
        "\n",
        "  # convert to lowercase\n",
        "  text = text.lower()\n",
        "\n",
        "  # Remove punctuations\n",
        "  text = text.translate(str.maketrans(\"\", \"\", string.punctuation))\n",
        "\n",
        "  # tokenization and limitization using spacy\n",
        "  doc  = nlp(text)\n",
        "  tokens = [token.lemma_ for token in doc if token.text not in stopwords]\n",
        "\n",
        "  return \" \".join(tokens)\n"
      ]
    },
    {
      "cell_type": "code",
      "execution_count": null,
      "metadata": {
        "id": "CftB3Oslbup-"
      },
      "outputs": [],
      "source": [
        "train_df[\"cleaned_text\"] = train_df[\"text\"].apply(preprocess)"
      ]
    },
    {
      "cell_type": "code",
      "execution_count": null,
      "metadata": {
        "colab": {
          "base_uri": "https://localhost:8080/",
          "height": 206
        },
        "id": "z_67ix-_cVVS",
        "outputId": "ad521134-7c6c-4435-ea9b-8fe1789ad08d"
      },
      "outputs": [
        {
          "output_type": "execute_result",
          "data": {
            "text/plain": [
              "   id                                              title              author  \\\n",
              "0   0  House Dem Aide: We Didn’t Even See Comey’s Let...       Darrell Lucus   \n",
              "1   1  FLYNN: Hillary Clinton, Big Woman on Campus - ...     Daniel J. Flynn   \n",
              "2   2                  Why the Truth Might Get You Fired  Consortiumnews.com   \n",
              "3   3  15 Civilians Killed In Single US Airstrike Hav...     Jessica Purkiss   \n",
              "4   4  Iranian woman jailed for fictional unpublished...      Howard Portnoy   \n",
              "\n",
              "   label                                       cleaned_text  \n",
              "0      1  house dem aide not even see comey ’s letter ja...  \n",
              "1      0  ever get feeling life circle roundabout rather...  \n",
              "2      1  truth might get fire october 29 2016 \\n tensio...  \n",
              "3      1  video 15 civilian kill single us airstrike ide...  \n",
              "4      1  print \\n iranian woman sentence six year priso...  "
            ],
            "text/html": [
              "\n",
              "  <div id=\"df-12d6f063-475d-4f5e-8473-6655a102efad\" class=\"colab-df-container\">\n",
              "    <div>\n",
              "<style scoped>\n",
              "    .dataframe tbody tr th:only-of-type {\n",
              "        vertical-align: middle;\n",
              "    }\n",
              "\n",
              "    .dataframe tbody tr th {\n",
              "        vertical-align: top;\n",
              "    }\n",
              "\n",
              "    .dataframe thead th {\n",
              "        text-align: right;\n",
              "    }\n",
              "</style>\n",
              "<table border=\"1\" class=\"dataframe\">\n",
              "  <thead>\n",
              "    <tr style=\"text-align: right;\">\n",
              "      <th></th>\n",
              "      <th>id</th>\n",
              "      <th>title</th>\n",
              "      <th>author</th>\n",
              "      <th>label</th>\n",
              "      <th>cleaned_text</th>\n",
              "    </tr>\n",
              "  </thead>\n",
              "  <tbody>\n",
              "    <tr>\n",
              "      <th>0</th>\n",
              "      <td>0</td>\n",
              "      <td>House Dem Aide: We Didn’t Even See Comey’s Let...</td>\n",
              "      <td>Darrell Lucus</td>\n",
              "      <td>1</td>\n",
              "      <td>house dem aide not even see comey ’s letter ja...</td>\n",
              "    </tr>\n",
              "    <tr>\n",
              "      <th>1</th>\n",
              "      <td>1</td>\n",
              "      <td>FLYNN: Hillary Clinton, Big Woman on Campus - ...</td>\n",
              "      <td>Daniel J. Flynn</td>\n",
              "      <td>0</td>\n",
              "      <td>ever get feeling life circle roundabout rather...</td>\n",
              "    </tr>\n",
              "    <tr>\n",
              "      <th>2</th>\n",
              "      <td>2</td>\n",
              "      <td>Why the Truth Might Get You Fired</td>\n",
              "      <td>Consortiumnews.com</td>\n",
              "      <td>1</td>\n",
              "      <td>truth might get fire october 29 2016 \\n tensio...</td>\n",
              "    </tr>\n",
              "    <tr>\n",
              "      <th>3</th>\n",
              "      <td>3</td>\n",
              "      <td>15 Civilians Killed In Single US Airstrike Hav...</td>\n",
              "      <td>Jessica Purkiss</td>\n",
              "      <td>1</td>\n",
              "      <td>video 15 civilian kill single us airstrike ide...</td>\n",
              "    </tr>\n",
              "    <tr>\n",
              "      <th>4</th>\n",
              "      <td>4</td>\n",
              "      <td>Iranian woman jailed for fictional unpublished...</td>\n",
              "      <td>Howard Portnoy</td>\n",
              "      <td>1</td>\n",
              "      <td>print \\n iranian woman sentence six year priso...</td>\n",
              "    </tr>\n",
              "  </tbody>\n",
              "</table>\n",
              "</div>\n",
              "    <div class=\"colab-df-buttons\">\n",
              "\n",
              "  <div class=\"colab-df-container\">\n",
              "    <button class=\"colab-df-convert\" onclick=\"convertToInteractive('df-12d6f063-475d-4f5e-8473-6655a102efad')\"\n",
              "            title=\"Convert this dataframe to an interactive table.\"\n",
              "            style=\"display:none;\">\n",
              "\n",
              "  <svg xmlns=\"http://www.w3.org/2000/svg\" height=\"24px\" viewBox=\"0 -960 960 960\">\n",
              "    <path d=\"M120-120v-720h720v720H120Zm60-500h600v-160H180v160Zm220 220h160v-160H400v160Zm0 220h160v-160H400v160ZM180-400h160v-160H180v160Zm440 0h160v-160H620v160ZM180-180h160v-160H180v160Zm440 0h160v-160H620v160Z\"/>\n",
              "  </svg>\n",
              "    </button>\n",
              "\n",
              "  <style>\n",
              "    .colab-df-container {\n",
              "      display:flex;\n",
              "      gap: 12px;\n",
              "    }\n",
              "\n",
              "    .colab-df-convert {\n",
              "      background-color: #E8F0FE;\n",
              "      border: none;\n",
              "      border-radius: 50%;\n",
              "      cursor: pointer;\n",
              "      display: none;\n",
              "      fill: #1967D2;\n",
              "      height: 32px;\n",
              "      padding: 0 0 0 0;\n",
              "      width: 32px;\n",
              "    }\n",
              "\n",
              "    .colab-df-convert:hover {\n",
              "      background-color: #E2EBFA;\n",
              "      box-shadow: 0px 1px 2px rgba(60, 64, 67, 0.3), 0px 1px 3px 1px rgba(60, 64, 67, 0.15);\n",
              "      fill: #174EA6;\n",
              "    }\n",
              "\n",
              "    .colab-df-buttons div {\n",
              "      margin-bottom: 4px;\n",
              "    }\n",
              "\n",
              "    [theme=dark] .colab-df-convert {\n",
              "      background-color: #3B4455;\n",
              "      fill: #D2E3FC;\n",
              "    }\n",
              "\n",
              "    [theme=dark] .colab-df-convert:hover {\n",
              "      background-color: #434B5C;\n",
              "      box-shadow: 0px 1px 3px 1px rgba(0, 0, 0, 0.15);\n",
              "      filter: drop-shadow(0px 1px 2px rgba(0, 0, 0, 0.3));\n",
              "      fill: #FFFFFF;\n",
              "    }\n",
              "  </style>\n",
              "\n",
              "    <script>\n",
              "      const buttonEl =\n",
              "        document.querySelector('#df-12d6f063-475d-4f5e-8473-6655a102efad button.colab-df-convert');\n",
              "      buttonEl.style.display =\n",
              "        google.colab.kernel.accessAllowed ? 'block' : 'none';\n",
              "\n",
              "      async function convertToInteractive(key) {\n",
              "        const element = document.querySelector('#df-12d6f063-475d-4f5e-8473-6655a102efad');\n",
              "        const dataTable =\n",
              "          await google.colab.kernel.invokeFunction('convertToInteractive',\n",
              "                                                    [key], {});\n",
              "        if (!dataTable) return;\n",
              "\n",
              "        const docLinkHtml = 'Like what you see? Visit the ' +\n",
              "          '<a target=\"_blank\" href=https://colab.research.google.com/notebooks/data_table.ipynb>data table notebook</a>'\n",
              "          + ' to learn more about interactive tables.';\n",
              "        element.innerHTML = '';\n",
              "        dataTable['output_type'] = 'display_data';\n",
              "        await google.colab.output.renderOutput(dataTable, element);\n",
              "        const docLink = document.createElement('div');\n",
              "        docLink.innerHTML = docLinkHtml;\n",
              "        element.appendChild(docLink);\n",
              "      }\n",
              "    </script>\n",
              "  </div>\n",
              "\n",
              "\n",
              "<div id=\"df-70587abf-945b-4c7d-b298-122b9b19e3a2\">\n",
              "  <button class=\"colab-df-quickchart\" onclick=\"quickchart('df-70587abf-945b-4c7d-b298-122b9b19e3a2')\"\n",
              "            title=\"Suggest charts\"\n",
              "            style=\"display:none;\">\n",
              "\n",
              "<svg xmlns=\"http://www.w3.org/2000/svg\" height=\"24px\"viewBox=\"0 0 24 24\"\n",
              "     width=\"24px\">\n",
              "    <g>\n",
              "        <path d=\"M19 3H5c-1.1 0-2 .9-2 2v14c0 1.1.9 2 2 2h14c1.1 0 2-.9 2-2V5c0-1.1-.9-2-2-2zM9 17H7v-7h2v7zm4 0h-2V7h2v10zm4 0h-2v-4h2v4z\"/>\n",
              "    </g>\n",
              "</svg>\n",
              "  </button>\n",
              "\n",
              "<style>\n",
              "  .colab-df-quickchart {\n",
              "      --bg-color: #E8F0FE;\n",
              "      --fill-color: #1967D2;\n",
              "      --hover-bg-color: #E2EBFA;\n",
              "      --hover-fill-color: #174EA6;\n",
              "      --disabled-fill-color: #AAA;\n",
              "      --disabled-bg-color: #DDD;\n",
              "  }\n",
              "\n",
              "  [theme=dark] .colab-df-quickchart {\n",
              "      --bg-color: #3B4455;\n",
              "      --fill-color: #D2E3FC;\n",
              "      --hover-bg-color: #434B5C;\n",
              "      --hover-fill-color: #FFFFFF;\n",
              "      --disabled-bg-color: #3B4455;\n",
              "      --disabled-fill-color: #666;\n",
              "  }\n",
              "\n",
              "  .colab-df-quickchart {\n",
              "    background-color: var(--bg-color);\n",
              "    border: none;\n",
              "    border-radius: 50%;\n",
              "    cursor: pointer;\n",
              "    display: none;\n",
              "    fill: var(--fill-color);\n",
              "    height: 32px;\n",
              "    padding: 0;\n",
              "    width: 32px;\n",
              "  }\n",
              "\n",
              "  .colab-df-quickchart:hover {\n",
              "    background-color: var(--hover-bg-color);\n",
              "    box-shadow: 0 1px 2px rgba(60, 64, 67, 0.3), 0 1px 3px 1px rgba(60, 64, 67, 0.15);\n",
              "    fill: var(--button-hover-fill-color);\n",
              "  }\n",
              "\n",
              "  .colab-df-quickchart-complete:disabled,\n",
              "  .colab-df-quickchart-complete:disabled:hover {\n",
              "    background-color: var(--disabled-bg-color);\n",
              "    fill: var(--disabled-fill-color);\n",
              "    box-shadow: none;\n",
              "  }\n",
              "\n",
              "  .colab-df-spinner {\n",
              "    border: 2px solid var(--fill-color);\n",
              "    border-color: transparent;\n",
              "    border-bottom-color: var(--fill-color);\n",
              "    animation:\n",
              "      spin 1s steps(1) infinite;\n",
              "  }\n",
              "\n",
              "  @keyframes spin {\n",
              "    0% {\n",
              "      border-color: transparent;\n",
              "      border-bottom-color: var(--fill-color);\n",
              "      border-left-color: var(--fill-color);\n",
              "    }\n",
              "    20% {\n",
              "      border-color: transparent;\n",
              "      border-left-color: var(--fill-color);\n",
              "      border-top-color: var(--fill-color);\n",
              "    }\n",
              "    30% {\n",
              "      border-color: transparent;\n",
              "      border-left-color: var(--fill-color);\n",
              "      border-top-color: var(--fill-color);\n",
              "      border-right-color: var(--fill-color);\n",
              "    }\n",
              "    40% {\n",
              "      border-color: transparent;\n",
              "      border-right-color: var(--fill-color);\n",
              "      border-top-color: var(--fill-color);\n",
              "    }\n",
              "    60% {\n",
              "      border-color: transparent;\n",
              "      border-right-color: var(--fill-color);\n",
              "    }\n",
              "    80% {\n",
              "      border-color: transparent;\n",
              "      border-right-color: var(--fill-color);\n",
              "      border-bottom-color: var(--fill-color);\n",
              "    }\n",
              "    90% {\n",
              "      border-color: transparent;\n",
              "      border-bottom-color: var(--fill-color);\n",
              "    }\n",
              "  }\n",
              "</style>\n",
              "\n",
              "  <script>\n",
              "    async function quickchart(key) {\n",
              "      const quickchartButtonEl =\n",
              "        document.querySelector('#' + key + ' button');\n",
              "      quickchartButtonEl.disabled = true;  // To prevent multiple clicks.\n",
              "      quickchartButtonEl.classList.add('colab-df-spinner');\n",
              "      try {\n",
              "        const charts = await google.colab.kernel.invokeFunction(\n",
              "            'suggestCharts', [key], {});\n",
              "      } catch (error) {\n",
              "        console.error('Error during call to suggestCharts:', error);\n",
              "      }\n",
              "      quickchartButtonEl.classList.remove('colab-df-spinner');\n",
              "      quickchartButtonEl.classList.add('colab-df-quickchart-complete');\n",
              "    }\n",
              "    (() => {\n",
              "      let quickchartButtonEl =\n",
              "        document.querySelector('#df-70587abf-945b-4c7d-b298-122b9b19e3a2 button');\n",
              "      quickchartButtonEl.style.display =\n",
              "        google.colab.kernel.accessAllowed ? 'block' : 'none';\n",
              "    })();\n",
              "  </script>\n",
              "</div>\n",
              "\n",
              "    </div>\n",
              "  </div>\n"
            ],
            "application/vnd.google.colaboratory.intrinsic+json": {
              "type": "dataframe",
              "variable_name": "train_df",
              "summary": "{\n  \"name\": \"train_df\",\n  \"rows\": 20800,\n  \"fields\": [\n    {\n      \"column\": \"id\",\n      \"properties\": {\n        \"dtype\": \"number\",\n        \"std\": 6004,\n        \"min\": 0,\n        \"max\": 20799,\n        \"num_unique_values\": 20800,\n        \"samples\": [\n          14649,\n          9231,\n          6473\n        ],\n        \"semantic_type\": \"\",\n        \"description\": \"\"\n      }\n    },\n    {\n      \"column\": \"title\",\n      \"properties\": {\n        \"dtype\": \"string\",\n        \"num_unique_values\": 19803,\n        \"samples\": [\n          \"Florida Republicans Voting for Hillary Clinton \\u00b7 Guardian Liberty Voice\",\n          \"\\u2018Weekend Warriors\\u2019 Show Survival Benefits - The New York Times\",\n          \"Part 6, Democratic Network Money: Commons Money that Works for Us, Instead of Us Working for It\"\n        ],\n        \"semantic_type\": \"\",\n        \"description\": \"\"\n      }\n    },\n    {\n      \"column\": \"author\",\n      \"properties\": {\n        \"dtype\": \"category\",\n        \"num_unique_values\": 4201,\n        \"samples\": [\n          \"AARGH63\",\n          \"Dave Kehr\",\n          \"Patrick Healy\"\n        ],\n        \"semantic_type\": \"\",\n        \"description\": \"\"\n      }\n    },\n    {\n      \"column\": \"label\",\n      \"properties\": {\n        \"dtype\": \"number\",\n        \"std\": 0,\n        \"min\": 0,\n        \"max\": 1,\n        \"num_unique_values\": 2,\n        \"samples\": [\n          0,\n          1\n        ],\n        \"semantic_type\": \"\",\n        \"description\": \"\"\n      }\n    },\n    {\n      \"column\": \"cleaned_text\",\n      \"properties\": {\n        \"dtype\": \"string\",\n        \"num_unique_values\": 20380,\n        \"samples\": [\n          \"\\n post martin walsh   nov 23 2016   break news want go let \\n feeling president trump breathe fresh air feel community across country life feel imagine thing want accomplish trump already instill cultural change breed toughness hard work \\n democrat lie medium slam donald trump month argue may accept result election ironically medium hillary \\u2019s supporter refuse accept result election \\n aside thousand whiny entitle liberal flood street violence tear deal president say mean thing state california make major announcement \\n fox news report state california file measure state \\u2019s attorney general question appear 2018 election ballot ask whether state secede united states confirm calexit independence plebiscite ballot measure sponsor yescalifornia accept california attorney general \\n \\u2014 yes california yescalifornia november 21 2016 \\n marcus evans vice president secessionist organization call yes california   tell sacramento bee file paperwork government order allow state opportunity succeed united states \\n group need 500000 signature california resident question appear ballot \\n large group argue california would world \\u2019s sixthlarg economy fellow citizen subsidize state federal taxis infrastructure take hit \\n group say plan seek independence united nations apprehension congress warm proposal still wait clinton obama democrats denounce violence riot maybe job would not time riot \\u2026 \\n \\u2014 martin walsh mrwalsh8 november 21 2016 \\n \\\" \\u2019re ashamed go around washington achieve \\\" group president louis marinelli say \\\" congress can not tie shoe \\\" \\n let one thing remain crystal clear california want secede united states get ready go \\n starter house illegal immigrant entire country make entire state sanctuary city would lose billion federal funding alone california secede would also guarantee republicans would effortlessly win white house every four year \\n california also forget united states would tax high rate food water everything else need survive california still want secede gear get ready war never win \\n president trump alter structure wall well officially secede build wall across eastern northern border order isolate entire country not need \\n would also able well control drug cartel california want accept protect million illegal immigrant keep would make united states much safe \\n united states need state california provide anything already \\u2013 zero leverage would nation survive without assistance other \\n really want leave great nation let \\u2019s help sign petition help spread word\",\n          \"post november 5 2016 jimq \\n part one article lay case criminal establishment regeneracy drive antiestablishment sentiment sweep across land atonement fourth turning deestablish decade \\u2019s worth delusional decision election destroy last vestige trust fraudulent system \\n dysfunctional rig presidential election reflect tearing civic fabric point maximum susceptibility country neglect deny delay necessary action plethora vital issue threaten long term viability nation deferral difficult painful decision ploy rule class allow siphon wealth die empire maintain control masse law regulation tax surveillance intimidation technology bread circus mainstream medium propaganda \\n country truly divide much along line first civil war division n\\u2019t along political party line race education geography gender age class religion ability think critically presidential poll ibd reveal many division clearly\"\n        ],\n        \"semantic_type\": \"\",\n        \"description\": \"\"\n      }\n    }\n  ]\n}"
            }
          },
          "metadata": {},
          "execution_count": 20
        }
      ],
      "source": [
        "# check the results\n",
        "train_df.head()"
      ]
    },
    {
      "cell_type": "code",
      "execution_count": null,
      "metadata": {
        "id": "tUZJsCgKU_-N"
      },
      "outputs": [],
      "source": [
        "train_df.drop(columns=[\"text\"], inplace=True)"
      ]
    },
    {
      "cell_type": "code",
      "execution_count": null,
      "metadata": {
        "id": "tgQSb5MwVPjz"
      },
      "outputs": [],
      "source": [
        "from sklearn.feature_extraction.text import TfidfVectorizer\n"
      ]
    },
    {
      "cell_type": "code",
      "execution_count": null,
      "metadata": {
        "id": "gJ2-y_2hVcJ7"
      },
      "outputs": [],
      "source": [
        "# Initialize the vectorizer\n",
        "tfidf = TfidfVectorizer(max_features=5000)\n"
      ]
    },
    {
      "cell_type": "code",
      "execution_count": null,
      "metadata": {
        "id": "bTvkmHfsVltT"
      },
      "outputs": [],
      "source": [
        "# transform the  text data\n",
        "x_tfidf = tfidf.fit_transform(train_df[\"cleaned_text\"])\n"
      ]
    },
    {
      "cell_type": "code",
      "execution_count": null,
      "metadata": {
        "id": "Qq9Ccto-V2qm"
      },
      "outputs": [],
      "source": [
        "# convert to df\n",
        "x_tfidf_df = pd.DataFrame(x_tfidf.toarray(), columns=tfidf.get_feature_names_out())"
      ]
    },
    {
      "cell_type": "code",
      "execution_count": null,
      "metadata": {
        "colab": {
          "base_uri": "https://localhost:8080/"
        },
        "id": "--sZpOrNWBUu",
        "outputId": "d8ed572a-32e8-4aff-ee6b-62830c4278d1"
      },
      "outputs": [
        {
          "output_type": "execute_result",
          "data": {
            "text/plain": [
              "(20800, 5000)"
            ]
          },
          "metadata": {},
          "execution_count": 25
        }
      ],
      "source": [
        "# check the shape\n",
        "x_tfidf_df.shape"
      ]
    },
    {
      "cell_type": "code",
      "execution_count": null,
      "metadata": {
        "id": "Q7iw1aBXWHGi"
      },
      "outputs": [],
      "source": [
        "from sklearn.feature_selection import  chi2, SelectKBest\n"
      ]
    },
    {
      "cell_type": "code",
      "execution_count": null,
      "metadata": {
        "id": "UHwgGY0pWlYp"
      },
      "outputs": [],
      "source": [
        "# Select top 2000 features based on Chi-square test\n",
        "selector = SelectKBest(chi2, k=2000)\n",
        "x_selected = selector.fit_transform(x_tfidf_df, train_df[\"label\"])"
      ]
    },
    {
      "cell_type": "code",
      "execution_count": null,
      "metadata": {
        "colab": {
          "base_uri": "https://localhost:8080/"
        },
        "id": "8g-B2gEpW8W8",
        "outputId": "83075bd7-7ca3-4292-b296-43cb4d2cdade"
      },
      "outputs": [
        {
          "output_type": "stream",
          "name": "stdout",
          "text": [
            "Selected 2000features\n"
          ]
        }
      ],
      "source": [
        "# Get selected feature names out\n",
        "selected_features = x_tfidf_df.columns[selector.get_support()]\n",
        "print(f\"Selected {len(selected_features)}features\")"
      ]
    },
    {
      "cell_type": "code",
      "source": [
        "from sklearn.model_selection import train_test_split"
      ],
      "metadata": {
        "id": "9OrHD7B0zUjg"
      },
      "execution_count": null,
      "outputs": []
    },
    {
      "cell_type": "code",
      "execution_count": null,
      "metadata": {
        "id": "I2D4nrdWYsd6"
      },
      "outputs": [],
      "source": [
        "# Split data\n",
        "X_train, X_test, y_train, y_test = train_test_split(x_selected, train_df[\"label\"], test_size=0.2, random_state=42)"
      ]
    },
    {
      "cell_type": "code",
      "execution_count": null,
      "metadata": {
        "id": "CmvsESrcY-Wx"
      },
      "outputs": [],
      "source": [
        "from sklearn.ensemble import RandomForestClassifier\n",
        "from xgboost import XGBClassifier\n",
        "from sklearn.svm import SVC\n",
        "from sklearn.naive_bayes import MultinomialNB\n",
        "from sklearn.metrics import accuracy_score\n"
      ]
    },
    {
      "cell_type": "code",
      "execution_count": null,
      "metadata": {
        "colab": {
          "base_uri": "https://localhost:8080/"
        },
        "id": "fNjkAqVuX2Ou",
        "outputId": "a7b5efa9-caa1-4e47-e083-7904a10717f7"
      },
      "outputs": [
        {
          "output_type": "stream",
          "name": "stdout",
          "text": [
            "Random Forest Accuracy: 0.9502\n"
          ]
        },
        {
          "output_type": "stream",
          "name": "stderr",
          "text": [
            "/usr/local/lib/python3.11/dist-packages/xgboost/core.py:158: UserWarning: [07:44:44] WARNING: /workspace/src/learner.cc:740: \n",
            "Parameters: { \"use_label_encoder\" } are not used.\n",
            "\n",
            "  warnings.warn(smsg, UserWarning)\n"
          ]
        },
        {
          "output_type": "stream",
          "name": "stdout",
          "text": [
            "XGBoost Accuracy: 0.9620\n",
            "SVM Accuracy: 0.9500\n",
            "Naive Bayes Accuracy: 0.9026\n"
          ]
        }
      ],
      "source": [
        "\n",
        "# Define models\n",
        "models = {\n",
        "    \"Random Forest\": RandomForestClassifier(n_estimators=100, random_state=42),\n",
        "    \"XGBoost\": XGBClassifier(use_label_encoder=False, eval_metric=\"logloss\"),\n",
        "    \"SVM\": SVC(kernel=\"linear\"),\n",
        "    \"Naive Bayes\": MultinomialNB()\n",
        "}\n",
        "\n",
        "# Train & Evaluate\n",
        "for name, model in models.items():\n",
        "    model.fit(X_train, y_train)\n",
        "    y_pred = model.predict(X_test)\n",
        "    acc = accuracy_score(y_test, y_pred)\n",
        "    print(f\"{name} Accuracy: {acc:.4f}\")\n"
      ]
    },
    {
      "cell_type": "code",
      "source": [
        "best_model = models[\"XGBoost\"]"
      ],
      "metadata": {
        "id": "bhuR1B0-19Wj"
      },
      "execution_count": null,
      "outputs": []
    },
    {
      "cell_type": "code",
      "execution_count": null,
      "metadata": {
        "colab": {
          "base_uri": "https://localhost:8080/"
        },
        "id": "qPEwii3wX51S",
        "outputId": "441e9ba9-f0b3-4442-85cf-c618d9b7b185"
      },
      "outputs": [
        {
          "output_type": "stream",
          "name": "stdout",
          "text": [
            "              precision    recall  f1-score   support\n",
            "\n",
            "           0       0.88      0.94      0.91      2132\n",
            "           1       0.93      0.86      0.90      2028\n",
            "\n",
            "    accuracy                           0.90      4160\n",
            "   macro avg       0.91      0.90      0.90      4160\n",
            "weighted avg       0.90      0.90      0.90      4160\n",
            "\n",
            "[[2007  125]\n",
            " [ 280 1748]]\n"
          ]
        }
      ],
      "source": [
        "from sklearn.metrics import classification_report, confusion_matrix\n",
        "\n",
        "print(classification_report(y_test, y_pred))\n",
        "print(confusion_matrix(y_test, y_pred))\n"
      ]
    },
    {
      "cell_type": "code",
      "execution_count": null,
      "metadata": {
        "id": "WXFiRvINN6Pi"
      },
      "outputs": [],
      "source": [
        "import shap"
      ]
    },
    {
      "cell_type": "code",
      "execution_count": null,
      "metadata": {
        "colab": {
          "base_uri": "https://localhost:8080/"
        },
        "id": "bqOqKGiOOTUb",
        "outputId": "850b4fc3-20c4-4ae7-e9a5-82ff7d2c3e3f"
      },
      "outputs": [
        {
          "output_type": "execute_result",
          "data": {
            "text/plain": [
              "['final_model.pkl']"
            ]
          },
          "metadata": {},
          "execution_count": 59
        }
      ],
      "source": [
        "import joblib\n",
        "\n",
        "joblib.dump(best_model, \"final_model.pkl\")\n"
      ]
    }
  ],
  "metadata": {
    "accelerator": "GPU",
    "colab": {
      "gpuType": "T4",
      "provenance": [],
      "mount_file_id": "1RHWNy-IeTUOGZxu-9Gx_PJI6T2MnZXkK",
      "authorship_tag": "ABX9TyNu+mjfcJvSnOAj8SyXDxHn",
      "include_colab_link": true
    },
    "kernelspec": {
      "display_name": "Python 3",
      "name": "python3"
    },
    "language_info": {
      "name": "python"
    }
  },
  "nbformat": 4,
  "nbformat_minor": 0
}